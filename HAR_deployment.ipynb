{
 "cells": [
  {
   "cell_type": "code",
   "execution_count": 33,
   "id": "f7ad8f03-5fdd-4ba1-a66a-bb86d8af356d",
   "metadata": {},
   "outputs": [],
   "source": [
    "import numpy as np\n",
    "import joblib\n",
    "from typing import Tuple, List, Dict\n",
    "from collections import Counter\n",
    "from sklearn.ensemble import RandomForestClassifier\n",
    "import tsfel\n",
    "import matplotlib.pyplot as plt\n",
    "\n",
    "# allowing for imports from PrevOccupAI dataset project\n",
    "import sys \n",
    "from pathlib import Path\n",
    "project_path = Path(\"C:/Users/srale/PycharmProjects/PrevOccupAI_Dataset\")\n",
    "sys.path.append(str(project_path))\n",
    "\n",
    "# imports from PrevOccupAI dataset\n",
    "from raw_data_processor.load_sensor_data import load_data_from_same_recording\n",
    "from feature_extractor.feature_extractor import _pre_process_sensors, trim_data\n",
    "from HAR.post_process import threshold_tuning, heuristics_correction, expand_classification\n",
    "from HAR.load import load_production_model"
   ]
  },
  {
   "cell_type": "code",
   "execution_count": 12,
   "id": "25c023e5-b929-4151-83dd-7134b92fe637",
   "metadata": {},
   "outputs": [],
   "source": [
    "# define constants\n",
    "FS = 100 # sampling frequency\n",
    "W_SIZE = 5 # 5 second window\n",
    "\n",
    "PROB_THRESHOLD = 0.85 # threshold for probabolity thresholding\n",
    "MIN_DURATIONS = {0: 20, 1: 30, 2: 5} # durations for 0 (sitting), 1 (standing), 2 (walking)"
   ]
  },
  {
   "cell_type": "code",
   "execution_count": 13,
   "id": "25f83785-abc9-4af6-8a81-85cddbd3d310",
   "metadata": {},
   "outputs": [],
   "source": [
    "def apply_classification_pipeline(features: np.ndarray, har_model: RandomForestClassifier, w_size: float,\n",
    "                              fs: int, threshold: float, min_durations: Dict[int,int]) -> Tuple[List[int], List[int]]:\n",
    "    \"\"\"\n",
    "    Applies classification pipeline. The classification pipeline consists of:\n",
    "    \n",
    "    1. Perform classification using a Random Forest\n",
    "    2. Apply threshold tuning label correction\n",
    "    3. Apply heuristics-based label correction\n",
    "\n",
    "\n",
    "    :param features: numpy.array of shape (n_samples, n_features) containing the features\n",
    "    :param har_model: object from RandomForestClassifier\n",
    "    :param w_size: window size in seconds\n",
    "    :param fs: the sampling frequency\n",
    "    :param threshold: The probability margin threshold for adjusting predictions. Default is 0.1.\n",
    "    :param min_durations: Dictionary mapping each class label to its minimum segment duration in seconds.\n",
    "    :return: A tuple containing:\n",
    "        - List[int]: Labels for each window.\n",
    "        - List[int]: Labels expanded to the original sampling frequency\n",
    "    \"\"\"\n",
    "\n",
    "    # classify the data - vanilla model\n",
    "    y_pred = har_model.predict(features)\n",
    "\n",
    "    # get class probabilities\n",
    "    y_pred_proba = har_model.predict_proba(features)\n",
    "\n",
    "    # apply threshold tuning\n",
    "    y_pred_tt = threshold_tuning(y_pred_proba, y_pred,0,1, threshold)\n",
    "\n",
    "    # apply heuristics\n",
    "    y_pred_heur = heuristics_correction(y_pred, w_size, min_durations)\n",
    "\n",
    "    # combine tt with heuristics\n",
    "    y_pred_tt_heur = heuristics_correction(y_pred_tt, w_size, min_durations)\n",
    "\n",
    "    # expand the predictions to the size of the original signal\n",
    "    y_pred_tt_heur_expanded = expand_classification(y_pred_tt_heur, w_size = w_size, fs=fs)\n",
    "\n",
    "    return y_pred_tt_heur, y_pred_tt_heur_expanded\n"
   ]
  },
  {
   "cell_type": "code",
   "execution_count": 30,
   "id": "45cd5b83-e6b5-4747-bc90-aab535ed2a25",
   "metadata": {},
   "outputs": [
    {
     "name": "stdout",
     "output_type": "stream",
     "text": [
      "model: RandomForestClassifier\n",
      "\n",
      "hyperparameters: {'bootstrap': True, 'ccp_alpha': 0.0, 'class_weight': None, 'criterion': 'gini', 'max_depth': 20, 'max_features': 'sqrt', 'max_leaf_nodes': None, 'max_samples': None, 'min_impurity_decrease': 0.0, 'min_samples_leaf': 1, 'min_samples_split': 2, 'min_weight_fraction_leaf': 0.0, 'monotonic_cst': None, 'n_estimators': 500, 'n_jobs': None, 'oob_score': False, 'random_state': 42, 'verbose': 0, 'warm_start': False}\n",
      "\n",
      "classes: [0 1 2]\n",
      "\n",
      "number of features: 30\n",
      "features: ['x_ACC_Interquartile range' 'x_ACC_Max' 'x_ACC_Median frequency'\n",
      " 'x_ACC_Min' 'x_GYR_Max' 'x_GYR_Median frequency' 'x_GYR_Min'\n",
      " 'x_GYR_Power bandwidth' 'x_MAG_Interquartile range'\n",
      " 'x_MAG_Power bandwidth' 'y_ACC_Interquartile range' 'y_ACC_Max'\n",
      " 'y_ACC_Max power spectrum' 'y_ACC_Power bandwidth'\n",
      " 'y_GYR_Interquartile range' 'y_GYR_Max' 'y_GYR_Median frequency'\n",
      " 'y_GYR_Min' 'y_GYR_Power bandwidth' 'y_MAG_Interquartile range'\n",
      " 'y_MAG_Power bandwidth' 'z_ACC_Interquartile range' 'z_ACC_Max'\n",
      " 'z_ACC_Median frequency' 'z_ACC_Min' 'z_GYR_Median frequency' 'z_GYR_Min'\n",
      " 'z_GYR_Power bandwidth' 'z_MAG_Interquartile range'\n",
      " 'z_MAG_Power bandwidth']\n"
     ]
    }
   ],
   "source": [
    "# define path to folder containing the data\n",
    "data_folder_path = \"E:\\\\Backup PrevOccupAI data\\\\Prevoccupai_HAR\\\\work_simulation\\\\raw_data\\\\S005\\\\2024-07-29_11-00-00\"\n",
    "\n",
    "# define sensors to load\n",
    "sensors = ['ACC', 'GYR', 'MAG']\n",
    "\n",
    "# load config file\n",
    "cfg = tsfel.load_json(\"E:\\\\best_model\\\\cfg_file_production_model.json\")\n",
    "\n",
    "# load the model\n",
    "model, model_features = load_production_model(\"E:\\\\best_model\\\\HAR_model_500.joblib\")"
   ]
  },
  {
   "cell_type": "code",
   "execution_count": 23,
   "id": "93308602-6642-4c4c-abbf-9a258362d031",
   "metadata": {},
   "outputs": [
    {
     "name": "stderr",
     "output_type": "stream",
     "text": [
      "--> Loading data: 100%|██████████████████████████████████████████████████████████████████| 3/3 [00:03<00:00,  1.08s/it]\n",
      "Padding data to ensure all data begins and ends on the same timestamp.: 100%|████████████| 3/3 [00:00<00:00, 16.20it/s]\n",
      "Ensurig equidistant sampling by resampling data to 100 Hz: 100%|█████████████████████████| 3/3 [00:03<00:00,  1.18s/it]\n"
     ]
    },
    {
     "name": "stdout",
     "output_type": "stream",
     "text": [
      "loaded sensors: ['x_ACC' 'y_ACC' 'z_ACC' 'x_GYR' 'y_GYR' 'z_GYR' 'x_MAG' 'y_MAG' 'z_MAG']\n"
     ]
    }
   ],
   "source": [
    "# load the data\n",
    "subdata = load_data_from_same_recording(data_folder_path, sensors, fs=FS, padding_type='same')\n",
    "\n",
    "# convert data to numpy array and remove time ('t') column\n",
    "sensor_data = subdata.values[:, 1:]\n",
    "\n",
    "# get the sensor names\n",
    "sensor_names = subdata.columns.values[1:]\n",
    "print(f\"loaded sensors: {sensor_names}\")"
   ]
  },
  {
   "cell_type": "code",
   "execution_count": 26,
   "id": "386a4391-7290-43b8-acb1-8e94c164d81d",
   "metadata": {},
   "outputs": [
    {
     "name": "stdout",
     "output_type": "stream",
     "text": [
      "--> pre-processing ACC sensor\n",
      "--> pre-processing GYR sensor\n",
      "--> pre-processing MAG sensor\n",
      "The ROT sensor is not in the loaded data. Skipping the pre-processing of this sensor.\n"
     ]
    },
    {
     "data": {
      "text/html": [
       "\n",
       "              <p>\n",
       "                  Progress: 100% Complete\n",
       "              <p/>\n",
       "              <progress\n",
       "                  value='4677'\n",
       "                  max='4677',\n",
       "                  style='width: 25%',\n",
       "              >\n",
       "                  4677\n",
       "              </progress>\n",
       "\n",
       "    "
      ],
      "text/plain": [
       "<IPython.core.display.HTML object>"
      ]
     },
     "metadata": {},
     "output_type": "display_data"
    }
   ],
   "source": [
    "#  pre-process the data\n",
    "sensor_data = _pre_process_sensors(sensor_data, sensor_names)\n",
    "\n",
    "# remove impulse response\n",
    "sensor_data = sensor_data[250:, :]\n",
    "\n",
    "# trim the data to accomodate full windowing\n",
    "sensor_data, to_trim = trim_data(sensor_data, w_size=W_SIZE, fs=FS)\n",
    "\n",
    "# extract the features\n",
    "features = tsfel.time_series_features_extractor(cfg, sensor_data, window_size=int(W_SIZE*FS), fs=FS, header_names=sensor_names)"
   ]
  },
  {
   "cell_type": "code",
   "execution_count": 31,
   "id": "fa5663c9-b2f3-4dc0-b858-796d196b78dc",
   "metadata": {},
   "outputs": [],
   "source": [
    "y_pred, y_pred_exp = apply_classification_pipeline(features[model_features], model, w_size=W_SIZE, fs=FS, threshold=PROB_THRESHOLD, min_durations=MIN_DURATIONS)"
   ]
  },
  {
   "cell_type": "code",
   "execution_count": 37,
   "id": "980cd37c-1e00-41b7-a6eb-9fb2023b305c",
   "metadata": {},
   "outputs": [
    {
     "data": {
      "image/png": "[encoded data removed]",
      "text/plain": [
       "<Figure size 2000x500 with 1 Axes>"
      ]
     },
     "metadata": {},
     "output_type": "display_data"
    }
   ],
   "source": [
    "plt.figure(figsize=(20, 5))  \n",
    "plt.plot(y_pred_exp) \n",
    "plt.title(\"Predicitons\")\n",
    "plt.show()   "
   ]
  },
  {
   "cell_type": "code",
   "execution_count": null,
   "id": "46c2728f-071b-45d5-a79a-18e73c900b5d",
   "metadata": {},
   "outputs": [],
   "source": []
  }
 ],
 "metadata": {
  "kernelspec": {
   "display_name": "Python [conda env:base] *",
   "language": "python",
   "name": "conda-base-py"
  },
  "language_info": {
   "codemirror_mode": {
    "name": "ipython",
    "version": 3
   },
   "file_extension": ".py",
   "mimetype": "text/x-python",
   "name": "python",
   "nbconvert_exporter": "python",
   "pygments_lexer": "ipython3",
   "version": "3.12.7"
  }
 },
 "nbformat": 4,
 "nbformat_minor": 5
}
